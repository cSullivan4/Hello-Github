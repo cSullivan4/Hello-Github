{
  "nbformat": 4,
  "nbformat_minor": 0,
  "metadata": {
    "colab": {
      "provenance": []
    },
    "kernelspec": {
      "name": "python3",
      "display_name": "Python 3"
    },
    "language_info": {
      "name": "python"
    }
  },
  "cells": [
    {
      "cell_type": "markdown",
      "source": [
        "1. One purpose for Github could be a convenient place to store projects that could easily be viewed by potential employers and other programmers in order to facilitate job oppurtunities and networking.\n",
        "\n",
        "2. In Github, version control keeps track of the different changes that are done to a repository, and allows the backtracking to previous versions. This could help me in the projects because during development, I could make a mistake and the program could not function as wanted. With version control, I could easily revert back to a working version, saving me lots of time debugging and trying to find the section that \"broke\" the program.\n",
        "\n",
        "3. Github could be a good way to handle collaboration because different group members could add different parts of the program from over the internet. There would be no emailing files, or copy and pasting. It also helps that there would be different versions over the development of the program, so if someone adds something that breaks the program, it can be reverted and the program will work again. It would also allow different members of the group to create spinoff projects and spinoff versions."
      ],
      "metadata": {
        "id": "0qxMNS0XD2uq"
      }
    }
  ]
}